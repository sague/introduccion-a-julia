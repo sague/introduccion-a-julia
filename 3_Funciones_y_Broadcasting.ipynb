{
 "cells": [
  {
   "cell_type": "markdown",
   "metadata": {},
   "source": [
    "# Funciones y Broadcasting\n",
    "\n",
    "1. ¿Cómo declarar una función? \n",
    "2. Duck-typing in Julia\n",
    "3. Funciones mutantes vs. no mutantes \n",
    "4. Algunas funciones de orden superior\n",
    "\n",
    "## ¿Cómo declarar una función?\n",
    "\n",
    "Julia nos da algunas formas diferentes de escribir una función. El primero requiere las palabras clave `function` y `end`"
   ]
  },
  {
   "cell_type": "code",
   "execution_count": null,
   "metadata": {},
   "outputs": [],
   "source": [
    "function sayhi(name)\n",
    "    println(\"Hi $name, it's great to see you!\")\n",
    "end"
   ]
  },
  {
   "cell_type": "code",
   "execution_count": null,
   "metadata": {},
   "outputs": [],
   "source": [
    "function f(x)\n",
    "    x^2\n",
    "end"
   ]
  },
  {
   "cell_type": "markdown",
   "metadata": {},
   "source": [
    "Podemos llamar a cualquiera de estas funciones de esta manera:"
   ]
  },
  {
   "cell_type": "code",
   "execution_count": null,
   "metadata": {},
   "outputs": [],
   "source": [
    "sayhi(\"C-3PO\")"
   ]
  },
  {
   "cell_type": "markdown",
   "metadata": {},
   "source": [
    "Alternativamente, podríamos haber declarado cualquiera de estas funciones en una sola línea"
   ]
  },
  {
   "cell_type": "code",
   "execution_count": null,
   "metadata": {},
   "outputs": [],
   "source": [
    "sayhi3 = name -> println(\"Hola $name, ¡Unete a Codigo IA!\")\n"
   ]
  },
  {
   "cell_type": "code",
   "execution_count": null,
   "metadata": {},
   "outputs": [],
   "source": [
    "f3 = x -> x^2"
   ]
  },
  {
   "cell_type": "code",
   "execution_count": null,
   "metadata": {},
   "outputs": [],
   "source": [
    "sayhi3(\"Chewbacca\")"
   ]
  },
  {
   "cell_type": "markdown",
   "metadata": {},
   "source": [
    "## Duck-typing in Julia\n",
    "\n",
    " \"Si grazna como un pato, es un pato\".\n",
    " Las funciones de Julia solo funcionarán en cualquier entrada que tenga sentido. <br> <br>\n",
    " Por ejemplo, `sayhi` funciona en el nombre de este personaje de televisión menor, escrito como un entero ..."
   ]
  },
  {
   "cell_type": "code",
   "execution_count": null,
   "metadata": {},
   "outputs": [],
   "source": [
    "sayhi(55595472)"
   ]
  },
  {
   "cell_type": "markdown",
   "metadata": {},
   "source": [
    "Y `f` funcionará en una matriz."
   ]
  },
  {
   "cell_type": "code",
   "execution_count": null,
   "metadata": {},
   "outputs": [],
   "source": [
    "A = rand(3, 3)\n",
    "A"
   ]
  },
  {
   "cell_type": "code",
   "execution_count": null,
   "metadata": {},
   "outputs": [],
   "source": [
    "f(A)"
   ]
  },
  {
   "cell_type": "markdown",
   "metadata": {},
   "source": [
    "## Funciones mutantes vs. no mutantes \n",
    "\n",
    "Como mencionamos anteriormente, la convención es que las funciones seguidas de \"!\" alteran sus contenidos y las funciones que carecen de \"!\".\n",
    "\n",
    "Por ejemplo, veamos la diferencia entre `sort` y` sort! `."
   ]
  },
  {
   "cell_type": "code",
   "execution_count": null,
   "metadata": {},
   "outputs": [],
   "source": [
    "v = [3, 5, 2]"
   ]
  },
  {
   "cell_type": "code",
   "execution_count": null,
   "metadata": {},
   "outputs": [],
   "source": [
    "sort(v)"
   ]
  },
  {
   "cell_type": "code",
   "execution_count": null,
   "metadata": {},
   "outputs": [],
   "source": [
    "v"
   ]
  },
  {
   "cell_type": "markdown",
   "metadata": {},
   "source": [
    "`sort (v)` devuelve una matriz ordenada que contiene los mismos elementos que `v`, pero` v` no se modifica. \n",
    "\n",
    " Por otro lado, cuando ejecutamos `sort! (V)`, los contenidos de v se ordenan dentro de la matriz `v`."
   ]
  },
  {
   "cell_type": "code",
   "execution_count": null,
   "metadata": {},
   "outputs": [],
   "source": [
    "sort!(v)"
   ]
  },
  {
   "cell_type": "code",
   "execution_count": null,
   "metadata": {},
   "outputs": [],
   "source": [
    "v"
   ]
  },
  {
   "cell_type": "markdown",
   "metadata": {},
   "source": [
    "### Cambiando nombres vs. Mutación\n",
    "\n",
    "Recuerde que las asignaciones a variables son solo un juego de nombres. Ahora considere este intento de una función mutante:"
   ]
  },
  {
   "cell_type": "code",
   "execution_count": null,
   "metadata": {},
   "outputs": [],
   "source": [
    "function setzero!(x)\n",
    "    x = 0\n",
    "    return x\n",
    "end\n",
    "y = 1"
   ]
  },
  {
   "cell_type": "markdown",
   "metadata": {},
   "source": [
    "¿Crees que esto podrá establecer `y` en cero? Intentalo:"
   ]
  },
  {
   "cell_type": "code",
   "execution_count": null,
   "metadata": {},
   "outputs": [],
   "source": [
    "setzero!(y)"
   ]
  },
  {
   "cell_type": "code",
   "execution_count": null,
   "metadata": {},
   "outputs": [],
   "source": [
    "y"
   ]
  },
  {
   "cell_type": "markdown",
   "metadata": {},
   "source": [
    "`y` es solo un nombre para el número` 1`, ¡y también lo era `x` dentro de la función` setzero! `hasta que decidimos que sería mejor servir como un nombre para` 0`! Por lo tanto, esta función no hace ninguna mutación, solo devuelve un `0`. Si queremos realmente mutar el argumento, necesitamos usar una asignación indexada (o usar una función real `!` Que realmente haga lo que dice hacer). También necesitamos usar un valor _mutable_ como argumento, como una matriz."
   ]
  },
  {
   "cell_type": "code",
   "execution_count": null,
   "metadata": {},
   "outputs": [],
   "source": [
    "function setzero!(x)\n",
    "    x[1] = 0\n",
    "    return x\n",
    "end\n",
    "y = [1]"
   ]
  },
  {
   "cell_type": "code",
   "execution_count": null,
   "metadata": {},
   "outputs": [],
   "source": [
    "setzero!(y)\n",
    "y"
   ]
  },
  {
   "cell_type": "markdown",
   "metadata": {},
   "source": [
    "## Algunas funciones de orden superior\n",
    "\n",
    "`map` es una función de\" orden superior \"en Julia que * toma una función * como uno de sus argumentos de entrada.\n",
    "\n",
    "`map` luego aplica esa función a cada elemento de la estructura de datos que le pasa. Por ejemplo, ejecutando.\n",
    "\n",
    "```julia\n",
    " map(f, [1, 2, 3])\n",
    " ```\n",
    " \n",
    "Le dará una matriz de salida donde la función `f` se ha aplicado a todos los elementos de `[1, 2, 3]`\n",
    " \n",
    "```julia\n",
    " [f(1), f(2), f(3)]\n",
    "```"
   ]
  },
  {
   "cell_type": "code",
   "execution_count": null,
   "metadata": {},
   "outputs": [],
   "source": [
    "map(f, [1, 2, 3])"
   ]
  },
  {
   "cell_type": "markdown",
   "metadata": {},
   "source": [
    "Aquí hemos cuadrado todos los elementos del vector `[1, 2, 3]`, en lugar de cuadrar el vector `[1, 2, 3]`.\n",
    "\n",
    "Para hacer esto, podríamos haber pasado a `map` una función anónima en lugar de una función con nombre, como"
   ]
  },
  {
   "cell_type": "code",
   "execution_count": null,
   "metadata": {},
   "outputs": [],
   "source": [
    "x -> x^3"
   ]
  },
  {
   "cell_type": "code",
   "execution_count": null,
   "metadata": {},
   "outputs": [],
   "source": [
    "# vía\n",
    "map(x -> x^3, [1, 2, 3])\n",
    "\n",
    "# y ahora \"cubed\" todos los elementos de `[1, 2, 3]`!"
   ]
  },
  {
   "cell_type": "markdown",
   "metadata": {},
   "source": [
    "### Broadcast\n",
    "\n",
    "`broadcast` es otra función de orden superior como` map`.\n",
    "`broadcast` es una generalización de` map`, por lo que puede hacer todo lo que `map` puede hacer y más. La sintaxis para llamar a `broadcast` es la misma que para llamar a` map`"
   ]
  },
  {
   "cell_type": "code",
   "execution_count": null,
   "metadata": {},
   "outputs": [],
   "source": [
    "broadcast(f, [1, 2, 3])"
   ]
  },
  {
   "cell_type": "markdown",
   "metadata": {},
   "source": [
    " y de nuevo, hemos aplicado `f` (squared) a todos los elementos de` [1, 2, 3] `- ¡esta vez al\" transmitir \"` f`!\n",
    " \n",
    "Algún \"syntactic sugar\" para llamar a `broadcast` es colocar un` .` entre el nombre de la función que desea `broadcast` y sus argumentos de entrada. Por ejemplo,\n",
    "\n",
    "```julia\n",
    "broadcast(f, [1, 2, 3])\n",
    "```\n",
    "is the same as\n",
    "\n",
    "```julia\n",
    "f.([1, 2, 3])\n",
    "```"
   ]
  },
  {
   "cell_type": "code",
   "execution_count": null,
   "metadata": {},
   "outputs": [],
   "source": [
    "f.([1, 2, 3])"
   ]
  },
  {
   "cell_type": "markdown",
   "metadata": {},
   "source": [
    " Observe nuevamente cuán diferente es esto de llamar\n",
    " \n",
    " ```julia\n",
    "f([1, 2, 3])\n",
    "```\n",
    "\n",
    "¡Podemos cuadrar cada elemento de un vector, pero no podemos cuadrar un vector!\n",
    "\n",
    "Para llevar a casa el punto, veamos la diferencia entre\n",
    "\n",
    "```julia\n",
    "f(A)\n",
    "```\n",
    "y \n",
    "\n",
    "```julia\n",
    "f.(A)\n",
    "```\n",
    "\n",
    "for a matrix `A`:\n"
   ]
  },
  {
   "cell_type": "code",
   "execution_count": null,
   "metadata": {},
   "outputs": [],
   "source": [
    "A = [i + 3*j for j in 0:2, i in 1:3]\n"
   ]
  },
  {
   "cell_type": "code",
   "execution_count": null,
   "metadata": {},
   "outputs": [],
   "source": [
    "f(A)"
   ]
  },
  {
   "cell_type": "markdown",
   "metadata": {},
   "source": [
    "Anteriormente, vemos que para una matriz, `A`,\n",
    "\n",
    "```\n",
    "f(A) = A^2 = A * A\n",
    "```\n",
    "\n",
    "Por otro lado,\n"
   ]
  },
  {
   "cell_type": "code",
   "execution_count": null,
   "metadata": {},
   "outputs": [],
   "source": [
    "B = f.(A)\n"
   ]
  },
  {
   "cell_type": "markdown",
   "metadata": {},
   "source": [
    "contiene los cuadrados de todas las entradas de `A`.\n",
    "\n",
    "Esta sintaxis de puntos para la transmisión nos permite escribir expresiones compuestas de elementos relativamente complejas de una manera que se ve natural / más cercana a la notación matemática. Por ejemplo, podemos escribir:\n"
   ]
  },
  {
   "cell_type": "code",
   "execution_count": null,
   "metadata": {},
   "outputs": [],
   "source": [
    "A .+ 2 .* f.(A) ./ A"
   ]
  },
  {
   "cell_type": "markdown",
   "metadata": {},
   "source": [
    "En lugar de"
   ]
  },
  {
   "cell_type": "code",
   "execution_count": null,
   "metadata": {},
   "outputs": [],
   "source": [
    "broadcast(x -> x + 2 * f(x) / x, A)"
   ]
  },
  {
   "cell_type": "markdown",
   "metadata": {},
   "source": [
    "y los dos realizarán exactamente lo mismo."
   ]
  },
  {
   "cell_type": "markdown",
   "metadata": {},
   "source": [
    "#### Ejercicios: \n",
    "\n",
    "1.  Escriba una función `add_one` que agregue 1 a su entrada.\n",
    "\n",
    "2. Use `map` o` broadcast` para incrementar cada elemento de la matriz `A` en` 1` y asignarlo a una variable `A1`.\n",
    "\n",
    "3. Use la sintaxis de punto de difusión para incrementar cada elemento de la matriz `A1` en` 1` y almacenarlo en la variable `A2`"
   ]
  }
 ],
 "metadata": {
  "kernelspec": {
   "display_name": "Julia 1.3.1",
   "language": "julia",
   "name": "julia-1.3"
  },
  "language_info": {
   "file_extension": ".jl",
   "mimetype": "application/julia",
   "name": "julia",
   "version": "1.3.1"
  }
 },
 "nbformat": 4,
 "nbformat_minor": 2
}
